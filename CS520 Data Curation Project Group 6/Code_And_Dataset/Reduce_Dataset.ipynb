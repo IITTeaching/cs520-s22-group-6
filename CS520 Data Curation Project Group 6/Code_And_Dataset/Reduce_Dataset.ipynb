{
 "cells": [
  {
   "cell_type": "code",
   "execution_count": 7,
   "id": "ce46eb5c",
   "metadata": {
    "scrolled": true
   },
   "outputs": [],
   "source": [
    "import pandas as pd\n",
    "fifa=pd.read_csv(\"FIFA_DATASET_FINAL.csv\")\n",
    "\n",
    "fifa['check']=fifa.index\n",
    "fifa.head()\n",
    "\n",
    "fifa= fifa[fifa.check % 2 != 0]\n",
    "\n",
    "new_data=fifa.reset_index(drop=True)\n",
    "\n",
    "newdf = new_data.drop(\"check\", axis='columns')\n",
    "\n",
    "newdf['checkdata']=newdf.index\n",
    "\n",
    "newdf= newdf[newdf.checkdata % 2 != 0]\n",
    "final = newdf.drop(\"checkdata\", axis='columns')\n",
    "\n",
    "fifa.to_csv(\"REDUCED_FIFA_DATASET.csv\")"
   ]
  }
 ],
 "metadata": {
  "kernelspec": {
   "display_name": "Python 3",
   "language": "python",
   "name": "python3"
  },
  "language_info": {
   "codemirror_mode": {
    "name": "ipython",
    "version": 3
   },
   "file_extension": ".py",
   "mimetype": "text/x-python",
   "name": "python",
   "nbconvert_exporter": "python",
   "pygments_lexer": "ipython3",
   "version": "3.8.8"
  }
 },
 "nbformat": 4,
 "nbformat_minor": 5
}
